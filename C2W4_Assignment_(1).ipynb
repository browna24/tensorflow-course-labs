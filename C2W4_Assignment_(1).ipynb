{
  "cells": [
    {
      "cell_type": "markdown",
      "metadata": {
        "id": "view-in-github",
        "colab_type": "text"
      },
      "source": [
        "<a href=\"https://colab.research.google.com/github/browna24/tensorflow-course-labs/blob/main/C2W4_Assignment_(1).ipynb\" target=\"_parent\"><img src=\"https://colab.research.google.com/assets/colab-badge.svg\" alt=\"Open In Colab\"/></a>"
      ]
    },
    {
      "cell_type": "markdown",
      "id": "6c6b84a0",
      "metadata": {
        "editable": true,
        "id": "6c6b84a0",
        "tags": []
      },
      "source": [
        "# Week 4: Multi-class Classification\n",
        "\n",
        "Welcome to the last assignment! In this notebook, you will get a chance to work on a multi-class classification problem. You will be using the [Sign Language MNIST](https://www.kaggle.com/datasets/datamunge/sign-language-mnist) dataset, which contains 28x28 images of hands depicting the letters of the english alphabet.\n",
        "\n",
        "#### TIPS FOR SUCCESSFUL GRADING OF YOUR ASSIGNMENT:\n",
        "\n",
        "- All cells are frozen except for the ones where you need to submit your solutions or when explicitly mentioned you can interact with it.\n",
        "\n",
        "\n",
        "- You can add new cells to experiment but these will be omitted by the grader, so don't rely on newly created cells to host your solution code, use the provided places for this.\n",
        "\n",
        "- You can add the comment # grade-up-to-here in any graded cell to signal the grader that it must only evaluate up to that point. This is helpful if you want to check if you are on the right track even if you are not done with the whole assignment. Be sure to remember to delete the comment afterwards!\n",
        "\n",
        "- Avoid using global variables unless you absolutely have to. The grader tests your code in an isolated environment without running all cells from the top. As a result, global variables may be unavailable when scoring your submission. Global variables that are meant to be used will be defined in UPPERCASE.\n",
        "\n",
        "- To submit your notebook, save it and then click on the blue submit button at the beginning of the page.\n",
        "\n",
        "Let's get started!"
      ]
    },
    {
      "cell_type": "code",
      "execution_count": null,
      "id": "eea99af0",
      "metadata": {
        "deletable": false,
        "editable": false,
        "id": "eea99af0",
        "tags": [
          "graded"
        ]
      },
      "outputs": [],
      "source": [
        "import os\n",
        "import numpy as np\n",
        "import tensorflow as tf\n",
        "import matplotlib.pyplot as plt"
      ]
    },
    {
      "cell_type": "code",
      "execution_count": null,
      "id": "5b16fdf8",
      "metadata": {
        "deletable": false,
        "editable": false,
        "tags": [],
        "id": "5b16fdf8"
      },
      "outputs": [],
      "source": [
        "import unittests"
      ]
    },
    {
      "cell_type": "markdown",
      "id": "378bb0bd",
      "metadata": {
        "editable": true,
        "id": "378bb0bd",
        "tags": []
      },
      "source": [
        "In this assignment you will actually be working with a modified version of the original [Sign Language MNIST](https://www.kaggle.com/datasets/datamunge/sign-language-mnist)  dataset. The original dataset is presented as a csv file, however this makes the pre processing of the data very different from what you have been doing so far. To make loading the images and creating the datasetss more aligned with what you have learned so far, we have already downloaded each image as a .png file. You can find them in the `data/train` and `data/validation` folders. As the names suggest, the images in the first folder will be used for training, and the ones in the latter will be used for validation.\n",
        "\n",
        "Begin by defining some globals with the paths to the training and test folders."
      ]
    },
    {
      "cell_type": "code",
      "execution_count": null,
      "id": "780e7599",
      "metadata": {
        "deletable": false,
        "editable": false,
        "id": "780e7599",
        "tags": [
          "graded"
        ]
      },
      "outputs": [],
      "source": [
        "TRAIN_DIR = 'data/train/'\n",
        "VALIDATION_DIR = 'data/validation/'"
      ]
    },
    {
      "cell_type": "markdown",
      "id": "fba4ea85",
      "metadata": {
        "editable": true,
        "id": "fba4ea85",
        "tags": []
      },
      "source": [
        "Let's explore the `./data` folder containing the images. There is a subdirectory for each class. In this case there will be 24 folders one for each letter in the alphabet, except for letters J and Z. Because of gesture motions these two letters can't be represented by an image, and are thus not included on the dataset.\n",
        "\n",
        "The complete tree looks like this:\n",
        "\n",
        "```\n",
        ".└── data/\n",
        "    ├── train/\n",
        "    |    ├── A/\n",
        "    |    │   ├── a1.jpg\n",
        "    |    │   ├── a2.jpg\n",
        "    |    │   └── ...\n",
        "    |    ├── B/\n",
        "    |        ├── b1.jpg\n",
        "    |        ├── b2.jpg\n",
        "    |        └── ...\n",
        "    |    ├── ...\n",
        "    |    ├── I/\n",
        "    |    |    ├── i1.jpg\n",
        "    |    |    ├── i2.jpg\n",
        "    |    |    └── ...\n",
        "    |    ├── K/\n",
        "    |    |    ├── k1.jpg\n",
        "    |    |    ├── k2.jpg\n",
        "    |    |    └── ...\n",
        "    |    ├── ...\n",
        "    |    └── Y/\n",
        "    |        ├── y1.jpg\n",
        "    |        ├── y2.jpg\n",
        "    |        └── ...\n",
        "    └── validation/\n",
        "         ├── A/\n",
        "         │   ├── a1.jpg\n",
        "         │   ├── a2.jpg\n",
        "         │   └── ...\n",
        "         ├── B/\n",
        "         |   ├── b1.jpg\n",
        "         |   ├── b2.jpg\n",
        "         |   └── ...\n",
        "         ├── ...\n",
        "         ├── I/\n",
        "         |    ├── i1.jpg\n",
        "         |    ├── i2.jpg\n",
        "         |    └── ...\n",
        "         ├── K/\n",
        "         |    ├── k1.jpg\n",
        "         |    ├── k2.jpg\n",
        "         |    └── ...\n",
        "         ├── ...\n",
        "         └── Y/\n",
        "             ├── y1.jpg\n",
        "             ├── y2.jpg\n",
        "             └── ...\n",
        "```"
      ]
    },
    {
      "cell_type": "markdown",
      "id": "2c4ec28c-2e17-4fba-bfed-4d70b26c22ab",
      "metadata": {
        "editable": true,
        "tags": [],
        "id": "2c4ec28c-2e17-4fba-bfed-4d70b26c22ab"
      },
      "source": [
        "Let's take a look at what the images look like."
      ]
    },
    {
      "cell_type": "code",
      "execution_count": null,
      "id": "68984793",
      "metadata": {
        "colab": {
          "base_uri": "https://localhost:8080/"
        },
        "deletable": false,
        "editable": false,
        "id": "68984793",
        "outputId": "3ed1dd14-7483-425c-d172-b982aeca549c",
        "tags": []
      },
      "outputs": [
        {
          "data": {
            "image/png": "[encoded data removed]",
            "text/plain": [
              "<Figure size 1400x300 with 6 Axes>"
            ]
          },
          "metadata": {},
          "output_type": "display_data"
        }
      ],
      "source": [
        "fig, axes = plt.subplots(1, 6, figsize=(14, 3))\n",
        "fig.suptitle('Sign Language MNIST Images', fontsize=16)\n",
        "\n",
        "# Plot one image from the first 4 letters\n",
        "for ii, letter in enumerate(['A' , 'B', 'C', 'D', 'E', 'F']):\n",
        "    dir = f'./data/train/{letter}'\n",
        "    img = tf.keras.preprocessing.image.load_img(dir+'/'+os.listdir(dir)[0])\n",
        "    axes[ii].imshow(img)\n",
        "    axes[ii].set_title(f'Example of letter {letter}')"
      ]
    },
    {
      "cell_type": "markdown",
      "id": "34382227-3325-4172-8892-04f739bf5365",
      "metadata": {
        "editable": true,
        "tags": [],
        "id": "34382227-3325-4172-8892-04f739bf5365"
      },
      "source": [
        "By plotting the images with `matplotlib` you can readily see images have a resolution of 28x28 (look at the image axes) and are in greyscale, but you can double check this by using the code below:"
      ]
    },
    {
      "cell_type": "code",
      "execution_count": null,
      "id": "683dce57-81aa-4217-b10e-6b725137fa1e",
      "metadata": {
        "deletable": false,
        "editable": false,
        "tags": [],
        "id": "683dce57-81aa-4217-b10e-6b725137fa1e",
        "outputId": "096e5d19-7a7e-4a75-e7e8-a0ec44b2528c"
      },
      "outputs": [
        {
          "name": "stdout",
          "output_type": "stream",
          "text": [
            "Each image has shape: (28, 28, 3)\n"
          ]
        }
      ],
      "source": [
        "# Convert the image into its numpy array representation\n",
        "sample_array = tf.keras.preprocessing.image.img_to_array(img)\n",
        "\n",
        "print(f\"Each image has shape: {sample_array.shape}\")"
      ]
    },
    {
      "cell_type": "markdown",
      "id": "138dce69-f614-4783-8137-24380aebaa7c",
      "metadata": {
        "editable": true,
        "tags": [],
        "id": "138dce69-f614-4783-8137-24380aebaa7c"
      },
      "source": [
        "Don't worry about the last dimension. That is because the [`img_to_array`](https://www.tensorflow.org/api_docs/python/tf/keras/utils/img_to_array) function returns a 3D array. You can easily check that actually it has repeated the same values in each dimension, for example, take a look at the first 5 columns of the image. All you really care about is that your image is 28x28 pixels."
      ]
    },
    {
      "cell_type": "code",
      "execution_count": null,
      "id": "3436a798-0c8a-41a3-9209-2981b1c7f86a",
      "metadata": {
        "editable": false,
        "tags": [],
        "id": "3436a798-0c8a-41a3-9209-2981b1c7f86a",
        "outputId": "0fd928a7-dc32-4529-e890-f19706a069c6"
      },
      "outputs": [
        {
          "data": {
            "text/plain": [
              "array([[136., 136., 136.],\n",
              "       [139., 139., 139.],\n",
              "       [140., 140., 140.],\n",
              "       [141., 141., 141.],\n",
              "       [144., 144., 144.]], dtype=float32)"
            ]
          },
          "execution_count": 6,
          "metadata": {},
          "output_type": "execute_result"
        }
      ],
      "source": [
        "sample_array[0,:5]"
      ]
    },
    {
      "cell_type": "markdown",
      "id": "3f716d86",
      "metadata": {
        "editable": true,
        "id": "3f716d86",
        "tags": []
      },
      "source": [
        "## Creating the datasets for the CNN\n",
        "\n",
        "### Exercise 1: train_val_datasets\n",
        "\n",
        "Your first task is to code the function that will create the datasets that will yield batches of images, both for training and validation. For this complete the `train_val_datasets` function below.\n",
        "\n",
        "For grading purposes, make sure to use a **batch size of 32**."
      ]
    },
    {
      "cell_type": "code",
      "execution_count": null,
      "id": "cc6b5845",
      "metadata": {
        "cellView": "code",
        "deletable": false,
        "editable": true,
        "id": "cc6b5845",
        "lines_to_next_cell": 2,
        "tags": [
          "graded"
        ]
      },
      "outputs": [],
      "source": [
        "# GRADED FUNCTION: train_val_datasets\n",
        "def train_val_datasets():\n",
        "    \"\"\"Create train and validation datasets\n",
        "\n",
        "    Returns:\n",
        "        (tf.data.Dataset, tf.data.Dataset): train and validation datasets\n",
        "    \"\"\"\n",
        "    ### START CODE HERE ###\n",
        "    train_dataset = tf.keras.utils.image_dataset_from_directory(\n",
        "        directory= TRAIN_DIR,\n",
        "        batch_size= 32,\n",
        "        image_size= (28, 28),\n",
        "\t\tlabel_mode= 'categorical',\n",
        "        color_mode = \"grayscale\", # Use this argument to get just one color dimension, because it is greyscale\n",
        "    )\n",
        "\n",
        "    validation_dataset = tf.keras.utils.image_dataset_from_directory(\n",
        "        directory= VALIDATION_DIR,\n",
        "        batch_size= 32,\n",
        "        image_size= (28, 28),\n",
        "\t\tlabel_mode= 'categorical',\n",
        "        color_mode = \"grayscale\", # Use this argument to get just one color dimension, because it imgs are greyscale\n",
        "    )\n",
        "    ### END CODE HERE ###\n",
        "\n",
        "    return train_dataset, validation_dataset"
      ]
    },
    {
      "cell_type": "code",
      "execution_count": null,
      "id": "aea10e2d",
      "metadata": {
        "colab": {
          "base_uri": "https://localhost:8080/"
        },
        "deletable": false,
        "editable": false,
        "id": "aea10e2d",
        "outputId": "5f1a552b-652d-42f1-e3d1-9aa58c7423e1",
        "tags": []
      },
      "outputs": [
        {
          "name": "stdout",
          "output_type": "stream",
          "text": [
            "Found 27455 files belonging to 24 classes.\n",
            "Found 7173 files belonging to 24 classes.\n",
            "Images of train dataset have shape: (None, 28, 28, 1)\n",
            "Labels of train dataset have shape: (None, 24)\n",
            "Images of validation dataset have shape: (None, 28, 28, 1)\n",
            "Labels of validation dataset have shape: (None, 24)\n"
          ]
        }
      ],
      "source": [
        "# Create train and validation datasets\n",
        "train_dataset, validation_dataset = train_val_datasets()\n",
        "print(f\"Images of train dataset have shape: {train_dataset.element_spec[0].shape}\")\n",
        "print(f\"Labels of train dataset have shape: {train_dataset.element_spec[1].shape}\")\n",
        "print(f\"Images of validation dataset have shape: {validation_dataset.element_spec[0].shape}\")\n",
        "print(f\"Labels of validation dataset have shape: {validation_dataset.element_spec[1].shape}\")"
      ]
    },
    {
      "cell_type": "markdown",
      "id": "01c172cc",
      "metadata": {
        "editable": true,
        "id": "01c172cc",
        "tags": []
      },
      "source": [
        "**Expected Output:**\n",
        "```\n",
        "Found 27455 files belonging to 24 classes.\n",
        "Found 7173 files belonging to 24 classes.\n",
        "Images of train dataset have shape: (None, 28, 28, 1)\n",
        "Labels of train dataset have shape: (None, 24)\n",
        "Images of validation dataset have shape: (None, 28, 28, 1)\n",
        "Labels of validation dataset have shape: (None, 24)\n",
        "```"
      ]
    },
    {
      "cell_type": "code",
      "execution_count": null,
      "id": "701be9fc",
      "metadata": {
        "deletable": false,
        "editable": false,
        "tags": [],
        "id": "701be9fc",
        "outputId": "75b0b769-c498-4965-b5e5-6af9df56a3b5"
      },
      "outputs": [
        {
          "name": "stdout",
          "output_type": "stream",
          "text": [
            "\u001b[92m All tests passed!\n"
          ]
        }
      ],
      "source": [
        "# Test your function\n",
        "unittests.test_train_val_datasets(train_val_datasets)"
      ]
    },
    {
      "cell_type": "markdown",
      "id": "ce27c239",
      "metadata": {
        "editable": true,
        "id": "ce27c239",
        "tags": []
      },
      "source": [
        "## Coding the CNN\n",
        "\n",
        "### Exercise : create_model\n",
        "\n",
        "One last step before training is to define the architecture of the model that will be trained.\n",
        "\n",
        "Complete the `create_model` function below. This function should return a Keras' model that uses the [`Sequential`](https://www.tensorflow.org/api_docs/python/tf/keras/Sequential) API.\n",
        "\n",
        "A couple of things to keep in mind when defining the architecture:\n",
        "\n",
        "- Start the model with an [`Input`](https://www.tensorflow.org/api_docs/python/tf/keras/Input) followed by a layer that rescales your images so that each pixel has values between 0 and 1\n",
        "  \n",
        "- There different ways to implement the output layer, however, we expect the last layer of your model to have a number of units that corresponds to the number of possible categories, as well as the correct activation function.\n",
        "\n",
        "- Aside from defining the architecture of the model, you should also compile it so make sure to use a `loss` function that is suitable for multi-class classification. Remember to also define suitable `metric` to monitor.\n",
        "\n",
        "**Note that you should use no more than 2 Conv2D and 2 MaxPooling2D layers to achieve the desired performance. You can also add dropout layers to improve training**"
      ]
    },
    {
      "cell_type": "code",
      "execution_count": null,
      "id": "db7e081e",
      "metadata": {
        "cellView": "code",
        "deletable": false,
        "editable": true,
        "id": "db7e081e",
        "tags": [
          "graded"
        ]
      },
      "outputs": [],
      "source": [
        "# GRADED FUNCTION: create_model\n",
        "def create_model():\n",
        "    \"\"\"Create the classifier model\n",
        "\n",
        "    Returns:\n",
        "        tf.keras.model.Sequential: CNN for multi-class classification\n",
        "    \"\"\"\n",
        "    ### START CODE HERE ###\n",
        "\n",
        "    data_augmentation = tf.keras.models.Sequential([\n",
        "        tf.keras.layers.RandomFlip(\"horizontal\"),\n",
        "        tf.keras.layers.RandomRotation(0.1),\n",
        "        tf.keras.layers.RandomContrast(0.4),\n",
        "        tf.keras.layers.RandomZoom(0.1),\n",
        "    ])\n",
        "\n",
        "    # Define the model\n",
        "    # Use no more than 2 Conv2D and 2 MaxPooling2D\n",
        "    model = tf.keras.models.Sequential([\n",
        "        # Define an input layer\n",
        "        tf.keras.Input(shape=(28, 28, 1)),\n",
        "\n",
        "        #data augmentation\n",
        "        data_augmentation,\n",
        "\n",
        "        # Rescale images\n",
        "        tf.keras.layers.Rescaling(1./255),\n",
        "        #First convolution\n",
        "        tf.keras.layers.Conv2D(64, (3,3), activation='relu'),\n",
        "        tf.keras.layers.MaxPooling2D(2,2),\n",
        "        #Second convolution\n",
        "        tf.keras.layers.Conv2D(128, (3,3), activation='relu'),\n",
        "        tf.keras.layers.MaxPooling2D(2,2),\n",
        "        # Flatten the results to feed into a DNN\n",
        "        tf.keras.layers.Flatten(),\n",
        "        tf.keras.layers.Dropout(0.05),\n",
        "        # 512 neuron hidden layer\n",
        "        tf.keras.layers.Dense(256, activation='relu'),\n",
        "        tf.keras.layers.Dense(24, activation='softmax')\n",
        "        ])\n",
        "\n",
        "\n",
        "    model.compile(optimizer = 'rmsprop',\n",
        "                  loss = 'categorical_crossentropy',\n",
        "                  metrics = ['accuracy'])\n",
        "\n",
        "    ### END CODE HERE ###\n",
        "    return model"
      ]
    },
    {
      "cell_type": "markdown",
      "id": "65cf159d",
      "metadata": {
        "id": "65cf159d"
      },
      "source": [
        "The next cell allows you to check the number of total and trainable parameters of your model and prompts a warning in case these exceeds those of a reference solution, this serves the following 3 purposes listed in order of priority:\n",
        "\n",
        "- Helps you prevent crashing the kernel during training.\n",
        "\n",
        "- Helps you avoid longer-than-necessary training times.\n",
        "- Provides a reasonable estimate of the size of your model. In general you will usually prefer smaller models given that they accomplish their goal successfully.\n",
        "\n",
        "\n",
        "**Notice that this is just informative** and may be very well below the actual limit for size of the model necessary to crash the kernel. So even if you exceed this reference you are probably fine. However, **if the kernel crashes during training or it is taking a very long time and your model is larger than the reference, come back here and try to get the number of parameters closer to the reference.**"
      ]
    },
    {
      "cell_type": "code",
      "execution_count": null,
      "id": "ded3d9df-3490-438f-ba4f-c03500d5ed69",
      "metadata": {
        "colab": {
          "base_uri": "https://localhost:8080/"
        },
        "deletable": false,
        "editable": false,
        "id": "ded3d9df-3490-438f-ba4f-c03500d5ed69",
        "lines_to_next_cell": 2,
        "outputId": "5bc05d6f-91fe-4cbf-a6b4-1d7495b47bef",
        "tags": []
      },
      "outputs": [
        {
          "name": "stdout",
          "output_type": "stream",
          "text": [
            "\u001b[92mYour model has 900,120 total parameters and the reference is 30,000\n",
            "\u001b[91mWarning! this exceeds the reference which is 30,000. If the kernel crashes while training, switch to a simpler architecture.\n",
            "\n",
            "\u001b[92mYour model has 900,120 trainable parameters and the reference is 30,000\n",
            "\u001b[91mWarning! this exceeds the reference which is 30,000. If the kernel crashes while training, switch to a simpler architecture.\n"
          ]
        }
      ],
      "source": [
        "# Create your model\n",
        "model = create_model()\n",
        "\n",
        "# Check parameter count against a reference solution\n",
        "unittests.parameter_count(model)"
      ]
    },
    {
      "cell_type": "markdown",
      "id": "a78e2044-003d-4c4d-b4a7-a81b337fb2a0",
      "metadata": {
        "editable": true,
        "tags": [],
        "id": "a78e2044-003d-4c4d-b4a7-a81b337fb2a0"
      },
      "source": [
        "Check that the input and output shape of your model are correct"
      ]
    },
    {
      "cell_type": "code",
      "execution_count": null,
      "id": "1bf5da08-ec40-468b-bde7-b1f0508bf37f",
      "metadata": {
        "deletable": false,
        "editable": false,
        "tags": [],
        "id": "1bf5da08-ec40-468b-bde7-b1f0508bf37f",
        "outputId": "e039c87f-a189-4566-c7ba-c3aab3fbc4b4"
      },
      "outputs": [
        {
          "name": "stdout",
          "output_type": "stream",
          "text": [
            "Input shape: (None, 28, 28, 1)\n",
            "Output shape: (None, 24)\n"
          ]
        }
      ],
      "source": [
        "print(f'Input shape: {model.input_shape}')\n",
        "print(f'Output shape: {model.output_shape}')"
      ]
    },
    {
      "cell_type": "markdown",
      "id": "71fc07ca",
      "metadata": {
        "editable": true,
        "tags": [],
        "id": "71fc07ca"
      },
      "source": [
        "Expected output:\n",
        "\n",
        "```\n",
        "Input shape: (None, 28, 28, 1)\n",
        "Output shape: (None, 24)\n",
        "```"
      ]
    },
    {
      "cell_type": "markdown",
      "id": "c6c37dc5-d9e1-4205-9d08-aa75ef0d5f84",
      "metadata": {
        "editable": true,
        "tags": [],
        "id": "c6c37dc5-d9e1-4205-9d08-aa75ef0d5f84"
      },
      "source": [
        "Using the `summary` method you can visulize the model you just defined."
      ]
    },
    {
      "cell_type": "code",
      "execution_count": null,
      "id": "f3a36bbb-efe0-4ab1-bb46-6c183a936265",
      "metadata": {
        "deletable": false,
        "editable": false,
        "tags": [],
        "id": "f3a36bbb-efe0-4ab1-bb46-6c183a936265",
        "outputId": "44149e99-3a21-4728-aca7-4eb09a6dee3f"
      },
      "outputs": [
        {
          "data": {
            "text/html": [
              "<pre style=\"white-space:pre;overflow-x:auto;line-height:normal;font-family:Menlo,'DejaVu Sans Mono',consolas,'Courier New',monospace\"><span style=\"font-weight: bold\">Model: \"sequential_42\"</span>\n",
              "</pre>\n"
            ],
            "text/plain": [
              "\u001b[1mModel: \"sequential_42\"\u001b[0m\n"
            ]
          },
          "metadata": {},
          "output_type": "display_data"
        },
        {
          "data": {
            "text/html": [
              "<pre style=\"white-space:pre;overflow-x:auto;line-height:normal;font-family:Menlo,'DejaVu Sans Mono',consolas,'Courier New',monospace\">┏━━━━━━━━━━━━━━━━━━━━━━━━━━━━━━━━━┳━━━━━━━━━━━━━━━━━━━━━━━━┳━━━━━━━━━━━━━━━┓\n",
              "┃<span style=\"font-weight: bold\"> Layer (type)                    </span>┃<span style=\"font-weight: bold\"> Output Shape           </span>┃<span style=\"font-weight: bold\">       Param # </span>┃\n",
              "┡━━━━━━━━━━━━━━━━━━━━━━━━━━━━━━━━━╇━━━━━━━━━━━━━━━━━━━━━━━━╇━━━━━━━━━━━━━━━┩\n",
              "│ sequential_41 (<span style=\"color: #0087ff; text-decoration-color: #0087ff\">Sequential</span>)      │ (<span style=\"color: #00d7ff; text-decoration-color: #00d7ff\">None</span>, <span style=\"color: #00af00; text-decoration-color: #00af00\">28</span>, <span style=\"color: #00af00; text-decoration-color: #00af00\">28</span>, <span style=\"color: #00af00; text-decoration-color: #00af00\">1</span>)      │             <span style=\"color: #00af00; text-decoration-color: #00af00\">0</span> │\n",
              "├─────────────────────────────────┼────────────────────────┼───────────────┤\n",
              "│ rescaling_21 (<span style=\"color: #0087ff; text-decoration-color: #0087ff\">Rescaling</span>)        │ (<span style=\"color: #00d7ff; text-decoration-color: #00d7ff\">None</span>, <span style=\"color: #00af00; text-decoration-color: #00af00\">28</span>, <span style=\"color: #00af00; text-decoration-color: #00af00\">28</span>, <span style=\"color: #00af00; text-decoration-color: #00af00\">1</span>)      │             <span style=\"color: #00af00; text-decoration-color: #00af00\">0</span> │\n",
              "├─────────────────────────────────┼────────────────────────┼───────────────┤\n",
              "│ conv2d_42 (<span style=\"color: #0087ff; text-decoration-color: #0087ff\">Conv2D</span>)              │ (<span style=\"color: #00d7ff; text-decoration-color: #00d7ff\">None</span>, <span style=\"color: #00af00; text-decoration-color: #00af00\">26</span>, <span style=\"color: #00af00; text-decoration-color: #00af00\">26</span>, <span style=\"color: #00af00; text-decoration-color: #00af00\">64</span>)     │           <span style=\"color: #00af00; text-decoration-color: #00af00\">640</span> │\n",
              "├─────────────────────────────────┼────────────────────────┼───────────────┤\n",
              "│ max_pooling2d_42 (<span style=\"color: #0087ff; text-decoration-color: #0087ff\">MaxPooling2D</span>) │ (<span style=\"color: #00d7ff; text-decoration-color: #00d7ff\">None</span>, <span style=\"color: #00af00; text-decoration-color: #00af00\">13</span>, <span style=\"color: #00af00; text-decoration-color: #00af00\">13</span>, <span style=\"color: #00af00; text-decoration-color: #00af00\">64</span>)     │             <span style=\"color: #00af00; text-decoration-color: #00af00\">0</span> │\n",
              "├─────────────────────────────────┼────────────────────────┼───────────────┤\n",
              "│ conv2d_43 (<span style=\"color: #0087ff; text-decoration-color: #0087ff\">Conv2D</span>)              │ (<span style=\"color: #00d7ff; text-decoration-color: #00d7ff\">None</span>, <span style=\"color: #00af00; text-decoration-color: #00af00\">11</span>, <span style=\"color: #00af00; text-decoration-color: #00af00\">11</span>, <span style=\"color: #00af00; text-decoration-color: #00af00\">128</span>)    │        <span style=\"color: #00af00; text-decoration-color: #00af00\">73,856</span> │\n",
              "├─────────────────────────────────┼────────────────────────┼───────────────┤\n",
              "│ max_pooling2d_43 (<span style=\"color: #0087ff; text-decoration-color: #0087ff\">MaxPooling2D</span>) │ (<span style=\"color: #00d7ff; text-decoration-color: #00d7ff\">None</span>, <span style=\"color: #00af00; text-decoration-color: #00af00\">5</span>, <span style=\"color: #00af00; text-decoration-color: #00af00\">5</span>, <span style=\"color: #00af00; text-decoration-color: #00af00\">128</span>)      │             <span style=\"color: #00af00; text-decoration-color: #00af00\">0</span> │\n",
              "├─────────────────────────────────┼────────────────────────┼───────────────┤\n",
              "│ flatten_21 (<span style=\"color: #0087ff; text-decoration-color: #0087ff\">Flatten</span>)            │ (<span style=\"color: #00d7ff; text-decoration-color: #00d7ff\">None</span>, <span style=\"color: #00af00; text-decoration-color: #00af00\">3200</span>)           │             <span style=\"color: #00af00; text-decoration-color: #00af00\">0</span> │\n",
              "├─────────────────────────────────┼────────────────────────┼───────────────┤\n",
              "│ dropout_21 (<span style=\"color: #0087ff; text-decoration-color: #0087ff\">Dropout</span>)            │ (<span style=\"color: #00d7ff; text-decoration-color: #00d7ff\">None</span>, <span style=\"color: #00af00; text-decoration-color: #00af00\">3200</span>)           │             <span style=\"color: #00af00; text-decoration-color: #00af00\">0</span> │\n",
              "├─────────────────────────────────┼────────────────────────┼───────────────┤\n",
              "│ dense_42 (<span style=\"color: #0087ff; text-decoration-color: #0087ff\">Dense</span>)                │ (<span style=\"color: #00d7ff; text-decoration-color: #00d7ff\">None</span>, <span style=\"color: #00af00; text-decoration-color: #00af00\">256</span>)            │       <span style=\"color: #00af00; text-decoration-color: #00af00\">819,456</span> │\n",
              "├─────────────────────────────────┼────────────────────────┼───────────────┤\n",
              "│ dense_43 (<span style=\"color: #0087ff; text-decoration-color: #0087ff\">Dense</span>)                │ (<span style=\"color: #00d7ff; text-decoration-color: #00d7ff\">None</span>, <span style=\"color: #00af00; text-decoration-color: #00af00\">24</span>)             │         <span style=\"color: #00af00; text-decoration-color: #00af00\">6,168</span> │\n",
              "└─────────────────────────────────┴────────────────────────┴───────────────┘\n",
              "</pre>\n"
            ],
            "text/plain": [
              "┏━━━━━━━━━━━━━━━━━━━━━━━━━━━━━━━━━┳━━━━━━━━━━━━━━━━━━━━━━━━┳━━━━━━━━━━━━━━━┓\n",
              "┃\u001b[1m \u001b[0m\u001b[1mLayer (type)                   \u001b[0m\u001b[1m \u001b[0m┃\u001b[1m \u001b[0m\u001b[1mOutput Shape          \u001b[0m\u001b[1m \u001b[0m┃\u001b[1m \u001b[0m\u001b[1m      Param #\u001b[0m\u001b[1m \u001b[0m┃\n",
              "┡━━━━━━━━━━━━━━━━━━━━━━━━━━━━━━━━━╇━━━━━━━━━━━━━━━━━━━━━━━━╇━━━━━━━━━━━━━━━┩\n",
              "│ sequential_41 (\u001b[38;5;33mSequential\u001b[0m)      │ (\u001b[38;5;45mNone\u001b[0m, \u001b[38;5;34m28\u001b[0m, \u001b[38;5;34m28\u001b[0m, \u001b[38;5;34m1\u001b[0m)      │             \u001b[38;5;34m0\u001b[0m │\n",
              "├─────────────────────────────────┼────────────────────────┼───────────────┤\n",
              "│ rescaling_21 (\u001b[38;5;33mRescaling\u001b[0m)        │ (\u001b[38;5;45mNone\u001b[0m, \u001b[38;5;34m28\u001b[0m, \u001b[38;5;34m28\u001b[0m, \u001b[38;5;34m1\u001b[0m)      │             \u001b[38;5;34m0\u001b[0m │\n",
              "├─────────────────────────────────┼────────────────────────┼───────────────┤\n",
              "│ conv2d_42 (\u001b[38;5;33mConv2D\u001b[0m)              │ (\u001b[38;5;45mNone\u001b[0m, \u001b[38;5;34m26\u001b[0m, \u001b[38;5;34m26\u001b[0m, \u001b[38;5;34m64\u001b[0m)     │           \u001b[38;5;34m640\u001b[0m │\n",
              "├─────────────────────────────────┼────────────────────────┼───────────────┤\n",
              "│ max_pooling2d_42 (\u001b[38;5;33mMaxPooling2D\u001b[0m) │ (\u001b[38;5;45mNone\u001b[0m, \u001b[38;5;34m13\u001b[0m, \u001b[38;5;34m13\u001b[0m, \u001b[38;5;34m64\u001b[0m)     │             \u001b[38;5;34m0\u001b[0m │\n",
              "├─────────────────────────────────┼────────────────────────┼───────────────┤\n",
              "│ conv2d_43 (\u001b[38;5;33mConv2D\u001b[0m)              │ (\u001b[38;5;45mNone\u001b[0m, \u001b[38;5;34m11\u001b[0m, \u001b[38;5;34m11\u001b[0m, \u001b[38;5;34m128\u001b[0m)    │        \u001b[38;5;34m73,856\u001b[0m │\n",
              "├─────────────────────────────────┼────────────────────────┼───────────────┤\n",
              "│ max_pooling2d_43 (\u001b[38;5;33mMaxPooling2D\u001b[0m) │ (\u001b[38;5;45mNone\u001b[0m, \u001b[38;5;34m5\u001b[0m, \u001b[38;5;34m5\u001b[0m, \u001b[38;5;34m128\u001b[0m)      │             \u001b[38;5;34m0\u001b[0m │\n",
              "├─────────────────────────────────┼────────────────────────┼───────────────┤\n",
              "│ flatten_21 (\u001b[38;5;33mFlatten\u001b[0m)            │ (\u001b[38;5;45mNone\u001b[0m, \u001b[38;5;34m3200\u001b[0m)           │             \u001b[38;5;34m0\u001b[0m │\n",
              "├─────────────────────────────────┼────────────────────────┼───────────────┤\n",
              "│ dropout_21 (\u001b[38;5;33mDropout\u001b[0m)            │ (\u001b[38;5;45mNone\u001b[0m, \u001b[38;5;34m3200\u001b[0m)           │             \u001b[38;5;34m0\u001b[0m │\n",
              "├─────────────────────────────────┼────────────────────────┼───────────────┤\n",
              "│ dense_42 (\u001b[38;5;33mDense\u001b[0m)                │ (\u001b[38;5;45mNone\u001b[0m, \u001b[38;5;34m256\u001b[0m)            │       \u001b[38;5;34m819,456\u001b[0m │\n",
              "├─────────────────────────────────┼────────────────────────┼───────────────┤\n",
              "│ dense_43 (\u001b[38;5;33mDense\u001b[0m)                │ (\u001b[38;5;45mNone\u001b[0m, \u001b[38;5;34m24\u001b[0m)             │         \u001b[38;5;34m6,168\u001b[0m │\n",
              "└─────────────────────────────────┴────────────────────────┴───────────────┘\n"
            ]
          },
          "metadata": {},
          "output_type": "display_data"
        },
        {
          "data": {
            "text/html": [
              "<pre style=\"white-space:pre;overflow-x:auto;line-height:normal;font-family:Menlo,'DejaVu Sans Mono',consolas,'Courier New',monospace\"><span style=\"font-weight: bold\"> Total params: </span><span style=\"color: #00af00; text-decoration-color: #00af00\">900,120</span> (3.43 MB)\n",
              "</pre>\n"
            ],
            "text/plain": [
              "\u001b[1m Total params: \u001b[0m\u001b[38;5;34m900,120\u001b[0m (3.43 MB)\n"
            ]
          },
          "metadata": {},
          "output_type": "display_data"
        },
        {
          "data": {
            "text/html": [
              "<pre style=\"white-space:pre;overflow-x:auto;line-height:normal;font-family:Menlo,'DejaVu Sans Mono',consolas,'Courier New',monospace\"><span style=\"font-weight: bold\"> Trainable params: </span><span style=\"color: #00af00; text-decoration-color: #00af00\">900,120</span> (3.43 MB)\n",
              "</pre>\n"
            ],
            "text/plain": [
              "\u001b[1m Trainable params: \u001b[0m\u001b[38;5;34m900,120\u001b[0m (3.43 MB)\n"
            ]
          },
          "metadata": {},
          "output_type": "display_data"
        },
        {
          "data": {
            "text/html": [
              "<pre style=\"white-space:pre;overflow-x:auto;line-height:normal;font-family:Menlo,'DejaVu Sans Mono',consolas,'Courier New',monospace\"><span style=\"font-weight: bold\"> Non-trainable params: </span><span style=\"color: #00af00; text-decoration-color: #00af00\">0</span> (0.00 B)\n",
              "</pre>\n"
            ],
            "text/plain": [
              "\u001b[1m Non-trainable params: \u001b[0m\u001b[38;5;34m0\u001b[0m (0.00 B)\n"
            ]
          },
          "metadata": {},
          "output_type": "display_data"
        }
      ],
      "source": [
        "model.summary()"
      ]
    },
    {
      "cell_type": "markdown",
      "id": "42024d2f",
      "metadata": {
        "id": "42024d2f"
      },
      "source": [
        "\n",
        "Check that the architecture you used is compatible with the dataset (you can ignore the warnings prompted by using the GPU):"
      ]
    },
    {
      "cell_type": "code",
      "execution_count": null,
      "id": "c8f5b744",
      "metadata": {
        "deletable": false,
        "editable": false,
        "id": "c8f5b744",
        "outputId": "91adafef-47bc-4b89-8594-194e5b5cb209"
      },
      "outputs": [
        {
          "name": "stdout",
          "output_type": "stream",
          "text": [
            "predictions have shape: (32, 24)\n"
          ]
        }
      ],
      "source": [
        "for images, labels in train_dataset.take(1):\n",
        "\texample_batch_images = images\n",
        "\texample_batch_labels = labels\n",
        "\n",
        "try:\n",
        "\tmodel.evaluate(example_batch_images, example_batch_labels, verbose=False)\n",
        "except:\n",
        "\tprint(\"Your model is not compatible with the dataset you defined earlier. Check that the loss function, last layer and label_mode are compatible with one another.\")\n",
        "else:\n",
        "\tpredictions = model.predict(example_batch_images, verbose=False)\n",
        "\tprint(f\"predictions have shape: {predictions.shape}\")"
      ]
    },
    {
      "cell_type": "markdown",
      "id": "255fe3ea",
      "metadata": {
        "id": "255fe3ea"
      },
      "source": [
        "**Expected output:**\n",
        "\n",
        "```\n",
        "predictions have shape: (32, 24)\n",
        "```"
      ]
    },
    {
      "cell_type": "code",
      "execution_count": null,
      "id": "f26fb111",
      "metadata": {
        "deletable": false,
        "editable": false,
        "tags": [],
        "id": "f26fb111",
        "outputId": "36a42cc0-52a0-439e-ca6b-d0e5636c6d71"
      },
      "outputs": [
        {
          "name": "stdout",
          "output_type": "stream",
          "text": [
            "\u001b[92m All tests passed!\n"
          ]
        }
      ],
      "source": [
        "# Test your function\n",
        "unittests.test_create_model(create_model)"
      ]
    },
    {
      "cell_type": "markdown",
      "id": "8002895d-c41c-41ce-9062-00dd155930a2",
      "metadata": {
        "editable": true,
        "tags": [],
        "id": "8002895d-c41c-41ce-9062-00dd155930a2"
      },
      "source": [
        "Finally, you can go ahead and train your model"
      ]
    },
    {
      "cell_type": "code",
      "execution_count": null,
      "id": "e11ebaca-f418-452a-b420-e1260fcd89ee",
      "metadata": {
        "colab": {
          "base_uri": "https://localhost:8080/"
        },
        "deletable": false,
        "editable": false,
        "id": "e11ebaca-f418-452a-b420-e1260fcd89ee",
        "lines_to_next_cell": 2,
        "outputId": "5bc05d6f-91fe-4cbf-a6b4-1d7495b47bef",
        "tags": []
      },
      "outputs": [
        {
          "name": "stdout",
          "output_type": "stream",
          "text": [
            "Epoch 1/15\n",
            "\u001b[1m858/858\u001b[0m \u001b[32m━━━━━━━━━━━━━━━━━━━━\u001b[0m\u001b[37m\u001b[0m \u001b[1m8s\u001b[0m 8ms/step - accuracy: 0.2514 - loss: 2.4675 - val_accuracy: 0.6789 - val_loss: 0.8341\n",
            "Epoch 2/15\n",
            "\u001b[1m858/858\u001b[0m \u001b[32m━━━━━━━━━━━━━━━━━━━━\u001b[0m\u001b[37m\u001b[0m \u001b[1m7s\u001b[0m 8ms/step - accuracy: 0.7748 - loss: 0.7082 - val_accuracy: 0.8117 - val_loss: 0.5584\n",
            "Epoch 3/15\n",
            "\u001b[1m858/858\u001b[0m \u001b[32m━━━━━━━━━━━━━━━━━━━━\u001b[0m\u001b[37m\u001b[0m \u001b[1m7s\u001b[0m 8ms/step - accuracy: 0.8962 - loss: 0.3200 - val_accuracy: 0.8782 - val_loss: 0.4063\n",
            "Epoch 4/15\n",
            "\u001b[1m858/858\u001b[0m \u001b[32m━━━━━━━━━━━━━━━━━━━━\u001b[0m\u001b[37m\u001b[0m \u001b[1m7s\u001b[0m 8ms/step - accuracy: 0.9439 - loss: 0.1742 - val_accuracy: 0.9228 - val_loss: 0.2811\n",
            "Epoch 5/15\n",
            "\u001b[1m858/858\u001b[0m \u001b[32m━━━━━━━━━━━━━━━━━━━━\u001b[0m\u001b[37m\u001b[0m \u001b[1m7s\u001b[0m 8ms/step - accuracy: 0.9676 - loss: 0.1044 - val_accuracy: 0.9456 - val_loss: 0.2070\n",
            "Epoch 6/15\n",
            "\u001b[1m858/858\u001b[0m \u001b[32m━━━━━━━━━━━━━━━━━━━━\u001b[0m\u001b[37m\u001b[0m \u001b[1m7s\u001b[0m 8ms/step - accuracy: 0.9768 - loss: 0.0792 - val_accuracy: 0.9359 - val_loss: 0.2147\n",
            "Epoch 7/15\n",
            "\u001b[1m858/858\u001b[0m \u001b[32m━━━━━━━━━━━━━━━━━━━━\u001b[0m\u001b[37m\u001b[0m \u001b[1m7s\u001b[0m 8ms/step - accuracy: 0.9812 - loss: 0.0552 - val_accuracy: 0.9403 - val_loss: 0.2892\n",
            "Epoch 8/15\n",
            "\u001b[1m858/858\u001b[0m \u001b[32m━━━━━━━━━━━━━━━━━━━━\u001b[0m\u001b[37m\u001b[0m \u001b[1m7s\u001b[0m 8ms/step - accuracy: 0.9849 - loss: 0.0479 - val_accuracy: 0.9299 - val_loss: 0.3408\n",
            "Epoch 9/15\n",
            "\u001b[1m858/858\u001b[0m \u001b[32m━━━━━━━━━━━━━━━━━━━━\u001b[0m\u001b[37m\u001b[0m \u001b[1m7s\u001b[0m 8ms/step - accuracy: 0.9871 - loss: 0.0387 - val_accuracy: 0.9441 - val_loss: 0.2779\n",
            "Epoch 10/15\n",
            "\u001b[1m858/858\u001b[0m \u001b[32m━━━━━━━━━━━━━━━━━━━━\u001b[0m\u001b[37m\u001b[0m \u001b[1m7s\u001b[0m 8ms/step - accuracy: 0.9919 - loss: 0.0299 - val_accuracy: 0.9428 - val_loss: 0.2761\n",
            "Epoch 11/15\n",
            "\u001b[1m858/858\u001b[0m \u001b[32m━━━━━━━━━━━━━━━━━━━━\u001b[0m\u001b[37m\u001b[0m \u001b[1m7s\u001b[0m 8ms/step - accuracy: 0.9924 - loss: 0.0268 - val_accuracy: 0.9497 - val_loss: 0.2915\n",
            "Epoch 12/15\n",
            "\u001b[1m858/858\u001b[0m \u001b[32m━━━━━━━━━━━━━━━━━━━━\u001b[0m\u001b[37m\u001b[0m \u001b[1m7s\u001b[0m 8ms/step - accuracy: 0.9927 - loss: 0.0251 - val_accuracy: 0.9458 - val_loss: 0.3728\n",
            "Epoch 13/15\n",
            "\u001b[1m858/858\u001b[0m \u001b[32m━━━━━━━━━━━━━━━━━━━━\u001b[0m\u001b[37m\u001b[0m \u001b[1m7s\u001b[0m 8ms/step - accuracy: 0.9932 - loss: 0.0222 - val_accuracy: 0.9335 - val_loss: 0.3448\n",
            "Epoch 14/15\n",
            "\u001b[1m858/858\u001b[0m \u001b[32m━━━━━━━━━━━━━━━━━━━━\u001b[0m\u001b[37m\u001b[0m \u001b[1m7s\u001b[0m 8ms/step - accuracy: 0.9948 - loss: 0.0163 - val_accuracy: 0.9331 - val_loss: 0.3612\n",
            "Epoch 15/15\n",
            "\u001b[1m858/858\u001b[0m \u001b[32m━━━━━━━━━━━━━━━━━━━━\u001b[0m\u001b[37m\u001b[0m \u001b[1m7s\u001b[0m 8ms/step - accuracy: 0.9929 - loss: 0.0224 - val_accuracy: 0.9518 - val_loss: 0.3266\n"
          ]
        }
      ],
      "source": [
        "# Train your model\n",
        "history = model.fit(train_dataset,\n",
        "                    epochs=15,\n",
        "                    validation_data=validation_dataset)"
      ]
    },
    {
      "cell_type": "markdown",
      "id": "ed0b45e5-f0ad-4f7d-b6a1-5d4ec6a190b3",
      "metadata": {
        "editable": true,
        "id": "ed0b45e5-f0ad-4f7d-b6a1-5d4ec6a190b3",
        "tags": []
      },
      "source": [
        "Now take a look at your training history:"
      ]
    },
    {
      "cell_type": "code",
      "execution_count": null,
      "id": "4abe3c9b",
      "metadata": {
        "colab": {
          "base_uri": "https://localhost:8080/",
          "height": 545
        },
        "deletable": false,
        "editable": false,
        "id": "4abe3c9b",
        "outputId": "906d642c-da0f-4e8e-93af-77e38570fa9b",
        "tags": []
      },
      "outputs": [
        {
          "data": {
            "image/png": "[encoded data removed]",
            "text/plain": [
              "<Figure size 1000x500 with 2 Axes>"
            ]
          },
          "metadata": {},
          "output_type": "display_data"
        }
      ],
      "source": [
        "# Get training and validation accuracies\n",
        "acc = history.history['accuracy']\n",
        "val_acc = history.history['val_accuracy']\n",
        "loss = history.history['loss']\n",
        "val_loss = history.history['val_loss']\n",
        "\n",
        "# Get number of epochs\n",
        "epochs = range(len(acc))\n",
        "\n",
        "fig, ax = plt.subplots(1, 2, figsize=(10, 5))\n",
        "fig.suptitle('Training and validation accuracy')\n",
        "\n",
        "for i, (data, label) in enumerate(zip([(acc, val_acc), (loss, val_loss)], [\"Accuracy\", \"Loss\"])):\n",
        "    ax[i].plot(epochs, data[0], 'r', label=\"Training \" + label)\n",
        "    ax[i].plot(epochs, data[1], 'b', label=\"Validation \" + label)\n",
        "    ax[i].legend()\n",
        "    ax[i].set_xlabel('epochs')\n",
        "\n",
        "plt.show()"
      ]
    },
    {
      "cell_type": "markdown",
      "id": "a35d88f4",
      "metadata": {
        "editable": true,
        "id": "a35d88f4",
        "tags": []
      },
      "source": [
        "You will not be graded based on the accuracy of your model but try making it as high as possible for both training and validation, as an optional exercise, **after submitting your notebook for grading**.\n",
        "\n",
        "A reasonable benchmark is to achieve over 99% accuracy for training and over 95% accuracy for validation within 15 epochs. Try tweaking your model's architecture or the augmentation techniques to see if you can achieve these levels of accuracy."
      ]
    },
    {
      "cell_type": "markdown",
      "id": "85e24649",
      "metadata": {
        "editable": true,
        "id": "85e24649",
        "tags": []
      },
      "source": [
        "**Congratulations on finishing this week's assignment!**\n",
        "\n",
        "You have successfully implemented a convolutional neural network that is able to perform multi-class classification tasks! Nice job!\n",
        "\n",
        "**Keep it up!**"
      ]
    }
  ],
  "metadata": {
    "accelerator": "GPU",
    "grader_version": "1",
    "kernelspec": {
      "display_name": "Python 3 (ipykernel)",
      "language": "python",
      "name": "python3"
    },
    "language_info": {
      "codemirror_mode": {
        "name": "ipython",
        "version": 3
      },
      "file_extension": ".py",
      "mimetype": "text/x-python",
      "name": "python",
      "nbconvert_exporter": "python",
      "pygments_lexer": "ipython3",
      "version": "3.11.0rc1"
    },
    "colab": {
      "provenance": [],
      "include_colab_link": true
    }
  },
  "nbformat": 4,
  "nbformat_minor": 5
}